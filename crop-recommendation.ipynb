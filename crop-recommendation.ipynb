{
 "cells": [
  {
   "cell_type": "markdown",
   "id": "f9ca0e69",
   "metadata": {},
   "source": [
    "# Crop Recommendation"
   ]
  },
  {
   "cell_type": "code",
   "execution_count": 1,
   "id": "9b1c019a",
   "metadata": {},
   "outputs": [],
   "source": [
    "import pandas as pd\n",
    "import matplotlib.pyplot as plt\n",
    "import seaborn as sns\n",
    "import numpy as np\n",
    "import warnings\n",
    "warnings.filterwarnings('ignore')"
   ]
  },
  {
   "cell_type": "code",
   "execution_count": 2,
   "id": "885fcc42",
   "metadata": {},
   "outputs": [
    {
     "data": {
      "text/html": [
       "<div>\n",
       "<style scoped>\n",
       "    .dataframe tbody tr th:only-of-type {\n",
       "        vertical-align: middle;\n",
       "    }\n",
       "\n",
       "    .dataframe tbody tr th {\n",
       "        vertical-align: top;\n",
       "    }\n",
       "\n",
       "    .dataframe thead th {\n",
       "        text-align: right;\n",
       "    }\n",
       "</style>\n",
       "<table border=\"1\" class=\"dataframe\">\n",
       "  <thead>\n",
       "    <tr style=\"text-align: right;\">\n",
       "      <th></th>\n",
       "      <th>N</th>\n",
       "      <th>P</th>\n",
       "      <th>K</th>\n",
       "      <th>temperature</th>\n",
       "      <th>humidity</th>\n",
       "      <th>ph</th>\n",
       "      <th>rainfall</th>\n",
       "      <th>label</th>\n",
       "    </tr>\n",
       "  </thead>\n",
       "  <tbody>\n",
       "    <tr>\n",
       "      <th>0</th>\n",
       "      <td>90</td>\n",
       "      <td>42</td>\n",
       "      <td>43</td>\n",
       "      <td>20.879744</td>\n",
       "      <td>82.002744</td>\n",
       "      <td>6.502985</td>\n",
       "      <td>202.935536</td>\n",
       "      <td>rice</td>\n",
       "    </tr>\n",
       "    <tr>\n",
       "      <th>1</th>\n",
       "      <td>85</td>\n",
       "      <td>58</td>\n",
       "      <td>41</td>\n",
       "      <td>21.770462</td>\n",
       "      <td>80.319644</td>\n",
       "      <td>7.038096</td>\n",
       "      <td>226.655537</td>\n",
       "      <td>rice</td>\n",
       "    </tr>\n",
       "    <tr>\n",
       "      <th>2</th>\n",
       "      <td>60</td>\n",
       "      <td>55</td>\n",
       "      <td>44</td>\n",
       "      <td>23.004459</td>\n",
       "      <td>82.320763</td>\n",
       "      <td>7.840207</td>\n",
       "      <td>263.964248</td>\n",
       "      <td>rice</td>\n",
       "    </tr>\n",
       "    <tr>\n",
       "      <th>3</th>\n",
       "      <td>74</td>\n",
       "      <td>35</td>\n",
       "      <td>40</td>\n",
       "      <td>26.491096</td>\n",
       "      <td>80.158363</td>\n",
       "      <td>6.980401</td>\n",
       "      <td>242.864034</td>\n",
       "      <td>rice</td>\n",
       "    </tr>\n",
       "    <tr>\n",
       "      <th>4</th>\n",
       "      <td>78</td>\n",
       "      <td>42</td>\n",
       "      <td>42</td>\n",
       "      <td>20.130175</td>\n",
       "      <td>81.604873</td>\n",
       "      <td>7.628473</td>\n",
       "      <td>262.717340</td>\n",
       "      <td>rice</td>\n",
       "    </tr>\n",
       "  </tbody>\n",
       "</table>\n",
       "</div>"
      ],
      "text/plain": [
       "    N   P   K  temperature   humidity        ph    rainfall label\n",
       "0  90  42  43    20.879744  82.002744  6.502985  202.935536  rice\n",
       "1  85  58  41    21.770462  80.319644  7.038096  226.655537  rice\n",
       "2  60  55  44    23.004459  82.320763  7.840207  263.964248  rice\n",
       "3  74  35  40    26.491096  80.158363  6.980401  242.864034  rice\n",
       "4  78  42  42    20.130175  81.604873  7.628473  262.717340  rice"
      ]
     },
     "execution_count": 2,
     "metadata": {},
     "output_type": "execute_result"
    }
   ],
   "source": [
    "df = pd.read_csv('./Crop_recommendation.csv')\n",
    "df.head()"
   ]
  },
  {
   "cell_type": "markdown",
   "id": "5ab5d8da",
   "metadata": {},
   "source": [
    "## EDA"
   ]
  },
  {
   "cell_type": "code",
   "execution_count": 3,
   "id": "5b8e0142",
   "metadata": {},
   "outputs": [
    {
     "name": "stdout",
     "output_type": "stream",
     "text": [
      "<class 'pandas.core.frame.DataFrame'>\n",
      "RangeIndex: 2200 entries, 0 to 2199\n",
      "Data columns (total 8 columns):\n",
      " #   Column       Non-Null Count  Dtype  \n",
      "---  ------       --------------  -----  \n",
      " 0   N            2200 non-null   int64  \n",
      " 1   P            2200 non-null   int64  \n",
      " 2   K            2200 non-null   int64  \n",
      " 3   temperature  2200 non-null   float64\n",
      " 4   humidity     2200 non-null   float64\n",
      " 5   ph           2200 non-null   float64\n",
      " 6   rainfall     2200 non-null   float64\n",
      " 7   label        2200 non-null   object \n",
      "dtypes: float64(4), int64(3), object(1)\n",
      "memory usage: 137.6+ KB\n"
     ]
    }
   ],
   "source": [
    "df.info()"
   ]
  },
  {
   "cell_type": "code",
   "execution_count": 4,
   "id": "529eaa1f",
   "metadata": {},
   "outputs": [
    {
     "data": {
      "text/html": [
       "<div>\n",
       "<style scoped>\n",
       "    .dataframe tbody tr th:only-of-type {\n",
       "        vertical-align: middle;\n",
       "    }\n",
       "\n",
       "    .dataframe tbody tr th {\n",
       "        vertical-align: top;\n",
       "    }\n",
       "\n",
       "    .dataframe thead th {\n",
       "        text-align: right;\n",
       "    }\n",
       "</style>\n",
       "<table border=\"1\" class=\"dataframe\">\n",
       "  <thead>\n",
       "    <tr style=\"text-align: right;\">\n",
       "      <th></th>\n",
       "      <th>N</th>\n",
       "      <th>P</th>\n",
       "      <th>K</th>\n",
       "      <th>temperature</th>\n",
       "      <th>humidity</th>\n",
       "      <th>ph</th>\n",
       "      <th>rainfall</th>\n",
       "    </tr>\n",
       "  </thead>\n",
       "  <tbody>\n",
       "    <tr>\n",
       "      <th>count</th>\n",
       "      <td>2200.000000</td>\n",
       "      <td>2200.000000</td>\n",
       "      <td>2200.000000</td>\n",
       "      <td>2200.000000</td>\n",
       "      <td>2200.000000</td>\n",
       "      <td>2200.000000</td>\n",
       "      <td>2200.000000</td>\n",
       "    </tr>\n",
       "    <tr>\n",
       "      <th>mean</th>\n",
       "      <td>50.551818</td>\n",
       "      <td>53.362727</td>\n",
       "      <td>48.149091</td>\n",
       "      <td>25.616244</td>\n",
       "      <td>71.481779</td>\n",
       "      <td>6.469480</td>\n",
       "      <td>103.463655</td>\n",
       "    </tr>\n",
       "    <tr>\n",
       "      <th>std</th>\n",
       "      <td>36.917334</td>\n",
       "      <td>32.985883</td>\n",
       "      <td>50.647931</td>\n",
       "      <td>5.063749</td>\n",
       "      <td>22.263812</td>\n",
       "      <td>0.773938</td>\n",
       "      <td>54.958389</td>\n",
       "    </tr>\n",
       "    <tr>\n",
       "      <th>min</th>\n",
       "      <td>0.000000</td>\n",
       "      <td>5.000000</td>\n",
       "      <td>5.000000</td>\n",
       "      <td>8.825675</td>\n",
       "      <td>14.258040</td>\n",
       "      <td>3.504752</td>\n",
       "      <td>20.211267</td>\n",
       "    </tr>\n",
       "    <tr>\n",
       "      <th>25%</th>\n",
       "      <td>21.000000</td>\n",
       "      <td>28.000000</td>\n",
       "      <td>20.000000</td>\n",
       "      <td>22.769375</td>\n",
       "      <td>60.261953</td>\n",
       "      <td>5.971693</td>\n",
       "      <td>64.551686</td>\n",
       "    </tr>\n",
       "    <tr>\n",
       "      <th>50%</th>\n",
       "      <td>37.000000</td>\n",
       "      <td>51.000000</td>\n",
       "      <td>32.000000</td>\n",
       "      <td>25.598693</td>\n",
       "      <td>80.473146</td>\n",
       "      <td>6.425045</td>\n",
       "      <td>94.867624</td>\n",
       "    </tr>\n",
       "    <tr>\n",
       "      <th>75%</th>\n",
       "      <td>84.250000</td>\n",
       "      <td>68.000000</td>\n",
       "      <td>49.000000</td>\n",
       "      <td>28.561654</td>\n",
       "      <td>89.948771</td>\n",
       "      <td>6.923643</td>\n",
       "      <td>124.267508</td>\n",
       "    </tr>\n",
       "    <tr>\n",
       "      <th>max</th>\n",
       "      <td>140.000000</td>\n",
       "      <td>145.000000</td>\n",
       "      <td>205.000000</td>\n",
       "      <td>43.675493</td>\n",
       "      <td>99.981876</td>\n",
       "      <td>9.935091</td>\n",
       "      <td>298.560117</td>\n",
       "    </tr>\n",
       "  </tbody>\n",
       "</table>\n",
       "</div>"
      ],
      "text/plain": [
       "                 N            P            K  temperature     humidity  \\\n",
       "count  2200.000000  2200.000000  2200.000000  2200.000000  2200.000000   \n",
       "mean     50.551818    53.362727    48.149091    25.616244    71.481779   \n",
       "std      36.917334    32.985883    50.647931     5.063749    22.263812   \n",
       "min       0.000000     5.000000     5.000000     8.825675    14.258040   \n",
       "25%      21.000000    28.000000    20.000000    22.769375    60.261953   \n",
       "50%      37.000000    51.000000    32.000000    25.598693    80.473146   \n",
       "75%      84.250000    68.000000    49.000000    28.561654    89.948771   \n",
       "max     140.000000   145.000000   205.000000    43.675493    99.981876   \n",
       "\n",
       "                ph     rainfall  \n",
       "count  2200.000000  2200.000000  \n",
       "mean      6.469480   103.463655  \n",
       "std       0.773938    54.958389  \n",
       "min       3.504752    20.211267  \n",
       "25%       5.971693    64.551686  \n",
       "50%       6.425045    94.867624  \n",
       "75%       6.923643   124.267508  \n",
       "max       9.935091   298.560117  "
      ]
     },
     "execution_count": 4,
     "metadata": {},
     "output_type": "execute_result"
    }
   ],
   "source": [
    "df.describe()"
   ]
  },
  {
   "cell_type": "code",
   "execution_count": 5,
   "id": "f8e97952",
   "metadata": {},
   "outputs": [
    {
     "data": {
      "text/plain": [
       "N              0\n",
       "P              0\n",
       "K              0\n",
       "temperature    0\n",
       "humidity       0\n",
       "ph             0\n",
       "rainfall       0\n",
       "label          0\n",
       "dtype: int64"
      ]
     },
     "execution_count": 5,
     "metadata": {},
     "output_type": "execute_result"
    }
   ],
   "source": [
    "df.isna().sum()"
   ]
  },
  {
   "cell_type": "code",
   "execution_count": 6,
   "id": "138bed81",
   "metadata": {},
   "outputs": [
    {
     "data": {
      "image/png": "[encoded data removed]",
      "text/plain": [
       "<Figure size 1200x800 with 6 Axes>"
      ]
     },
     "metadata": {
      "needs_background": "light"
     },
     "output_type": "display_data"
    }
   ],
   "source": [
    "fig, axs = plt.subplots(2, 3, figsize=(12, 8), dpi=100)\n",
    "cols = ['N', 'P', 'K', 'temperature', 'humidity', 'ph']\n",
    "i = 0\n",
    "for ax in axs.flatten():\n",
    "    ax.hist(df[cols[i]], bins=50)\n",
    "    ax.set_title(cols[i])\n",
    "    i += 1\n",
    "plt.tight_layout()\n",
    "plt.show()"
   ]
  },
  {
   "cell_type": "code",
   "execution_count": 7,
   "id": "5fc194f9",
   "metadata": {},
   "outputs": [
    {
     "data": {
      "text/html": [
       "<div>\n",
       "<style scoped>\n",
       "    .dataframe tbody tr th:only-of-type {\n",
       "        vertical-align: middle;\n",
       "    }\n",
       "\n",
       "    .dataframe tbody tr th {\n",
       "        vertical-align: top;\n",
       "    }\n",
       "\n",
       "    .dataframe thead th {\n",
       "        text-align: right;\n",
       "    }\n",
       "</style>\n",
       "<table border=\"1\" class=\"dataframe\">\n",
       "  <thead>\n",
       "    <tr style=\"text-align: right;\">\n",
       "      <th></th>\n",
       "      <th>N</th>\n",
       "      <th>P</th>\n",
       "      <th>K</th>\n",
       "      <th>temperature</th>\n",
       "      <th>humidity</th>\n",
       "      <th>ph</th>\n",
       "      <th>rainfall</th>\n",
       "    </tr>\n",
       "  </thead>\n",
       "  <tbody>\n",
       "    <tr>\n",
       "      <th>mean</th>\n",
       "      <td>50.551818</td>\n",
       "      <td>53.362727</td>\n",
       "      <td>48.149091</td>\n",
       "      <td>25.616244</td>\n",
       "      <td>71.481779</td>\n",
       "      <td>6.469480</td>\n",
       "      <td>103.463655</td>\n",
       "    </tr>\n",
       "    <tr>\n",
       "      <th>std</th>\n",
       "      <td>36.917334</td>\n",
       "      <td>32.985883</td>\n",
       "      <td>50.647931</td>\n",
       "      <td>5.063749</td>\n",
       "      <td>22.263812</td>\n",
       "      <td>0.773938</td>\n",
       "      <td>54.958389</td>\n",
       "    </tr>\n",
       "  </tbody>\n",
       "</table>\n",
       "</div>"
      ],
      "text/plain": [
       "              N          P          K  temperature   humidity        ph  \\\n",
       "mean  50.551818  53.362727  48.149091    25.616244  71.481779  6.469480   \n",
       "std   36.917334  32.985883  50.647931     5.063749  22.263812  0.773938   \n",
       "\n",
       "        rainfall  \n",
       "mean  103.463655  \n",
       "std    54.958389  "
      ]
     },
     "execution_count": 7,
     "metadata": {},
     "output_type": "execute_result"
    }
   ],
   "source": [
    "stats = df.describe().loc[['mean', 'std']]\n",
    "stats"
   ]
  },
  {
   "cell_type": "code",
   "execution_count": 8,
   "id": "5f780907",
   "metadata": {},
   "outputs": [
    {
     "data": {
      "text/html": [
       "<div>\n",
       "<style scoped>\n",
       "    .dataframe tbody tr th:only-of-type {\n",
       "        vertical-align: middle;\n",
       "    }\n",
       "\n",
       "    .dataframe tbody tr th {\n",
       "        vertical-align: top;\n",
       "    }\n",
       "\n",
       "    .dataframe thead th {\n",
       "        text-align: right;\n",
       "    }\n",
       "</style>\n",
       "<table border=\"1\" class=\"dataframe\">\n",
       "  <thead>\n",
       "    <tr style=\"text-align: right;\">\n",
       "      <th></th>\n",
       "      <th>N</th>\n",
       "      <th>P</th>\n",
       "      <th>K</th>\n",
       "      <th>temperature</th>\n",
       "      <th>humidity</th>\n",
       "      <th>ph</th>\n",
       "      <th>rainfall</th>\n",
       "    </tr>\n",
       "  </thead>\n",
       "  <tbody>\n",
       "    <tr>\n",
       "      <th>count</th>\n",
       "      <td>2.200000e+03</td>\n",
       "      <td>2.200000e+03</td>\n",
       "      <td>2.200000e+03</td>\n",
       "      <td>2.200000e+03</td>\n",
       "      <td>2.200000e+03</td>\n",
       "      <td>2.200000e+03</td>\n",
       "      <td>2200.000000</td>\n",
       "    </tr>\n",
       "    <tr>\n",
       "      <th>mean</th>\n",
       "      <td>-1.033517e-16</td>\n",
       "      <td>5.167584e-17</td>\n",
       "      <td>-5.167584e-17</td>\n",
       "      <td>3.875688e-16</td>\n",
       "      <td>-1.808654e-16</td>\n",
       "      <td>-1.291896e-16</td>\n",
       "      <td>103.463655</td>\n",
       "    </tr>\n",
       "    <tr>\n",
       "      <th>std</th>\n",
       "      <td>1.000227e+00</td>\n",
       "      <td>1.000227e+00</td>\n",
       "      <td>1.000227e+00</td>\n",
       "      <td>1.000227e+00</td>\n",
       "      <td>1.000227e+00</td>\n",
       "      <td>1.000227e+00</td>\n",
       "      <td>54.958389</td>\n",
       "    </tr>\n",
       "    <tr>\n",
       "      <th>min</th>\n",
       "      <td>-1.369636e+00</td>\n",
       "      <td>-1.466498e+00</td>\n",
       "      <td>-8.521355e-01</td>\n",
       "      <td>-3.316592e+00</td>\n",
       "      <td>-2.570842e+00</td>\n",
       "      <td>-3.831577e+00</td>\n",
       "      <td>20.211267</td>\n",
       "    </tr>\n",
       "    <tr>\n",
       "      <th>25%</th>\n",
       "      <td>-8.006682e-01</td>\n",
       "      <td>-7.690712e-01</td>\n",
       "      <td>-5.559060e-01</td>\n",
       "      <td>-5.623337e-01</td>\n",
       "      <td>-5.040636e-01</td>\n",
       "      <td>-6.433340e-01</td>\n",
       "      <td>64.551686</td>\n",
       "    </tr>\n",
       "    <tr>\n",
       "      <th>50%</th>\n",
       "      <td>-3.671690e-01</td>\n",
       "      <td>-7.164472e-02</td>\n",
       "      <td>-3.189225e-01</td>\n",
       "      <td>-3.466729e-03</td>\n",
       "      <td>4.039475e-01</td>\n",
       "      <td>-5.742697e-02</td>\n",
       "      <td>94.867624</td>\n",
       "    </tr>\n",
       "    <tr>\n",
       "      <th>75%</th>\n",
       "      <td>9.130086e-01</td>\n",
       "      <td>4.438444e-01</td>\n",
       "      <td>1.680429e-02</td>\n",
       "      <td>5.817982e-01</td>\n",
       "      <td>8.296508e-01</td>\n",
       "      <td>5.869540e-01</td>\n",
       "      <td>124.267508</td>\n",
       "    </tr>\n",
       "    <tr>\n",
       "      <th>max</th>\n",
       "      <td>2.423483e+00</td>\n",
       "      <td>2.778707e+00</td>\n",
       "      <td>3.097591e+00</td>\n",
       "      <td>3.567190e+00</td>\n",
       "      <td>1.280400e+00</td>\n",
       "      <td>4.478912e+00</td>\n",
       "      <td>298.560117</td>\n",
       "    </tr>\n",
       "  </tbody>\n",
       "</table>\n",
       "</div>"
      ],
      "text/plain": [
       "                  N             P             K   temperature      humidity  \\\n",
       "count  2.200000e+03  2.200000e+03  2.200000e+03  2.200000e+03  2.200000e+03   \n",
       "mean  -1.033517e-16  5.167584e-17 -5.167584e-17  3.875688e-16 -1.808654e-16   \n",
       "std    1.000227e+00  1.000227e+00  1.000227e+00  1.000227e+00  1.000227e+00   \n",
       "min   -1.369636e+00 -1.466498e+00 -8.521355e-01 -3.316592e+00 -2.570842e+00   \n",
       "25%   -8.006682e-01 -7.690712e-01 -5.559060e-01 -5.623337e-01 -5.040636e-01   \n",
       "50%   -3.671690e-01 -7.164472e-02 -3.189225e-01 -3.466729e-03  4.039475e-01   \n",
       "75%    9.130086e-01  4.438444e-01  1.680429e-02  5.817982e-01  8.296508e-01   \n",
       "max    2.423483e+00  2.778707e+00  3.097591e+00  3.567190e+00  1.280400e+00   \n",
       "\n",
       "                 ph     rainfall  \n",
       "count  2.200000e+03  2200.000000  \n",
       "mean  -1.291896e-16   103.463655  \n",
       "std    1.000227e+00    54.958389  \n",
       "min   -3.831577e+00    20.211267  \n",
       "25%   -6.433340e-01    64.551686  \n",
       "50%   -5.742697e-02    94.867624  \n",
       "75%    5.869540e-01   124.267508  \n",
       "max    4.478912e+00   298.560117  "
      ]
     },
     "execution_count": 8,
     "metadata": {},
     "output_type": "execute_result"
    }
   ],
   "source": [
    "from scipy.stats import zscore\n",
    "\n",
    "df[cols] = df[cols].apply(zscore)\n",
    "df.describe()"
   ]
  },
  {
   "cell_type": "code",
   "execution_count": 9,
   "id": "45a7336e",
   "metadata": {},
   "outputs": [
    {
     "data": {
      "image/png": "[encoded data removed]",
      "text/plain": [
       "<Figure size 1200x800 with 6 Axes>"
      ]
     },
     "metadata": {
      "needs_background": "light"
     },
     "output_type": "display_data"
    }
   ],
   "source": [
    "fig, axs = plt.subplots(2, 3, figsize=(12, 8), dpi=100)\n",
    "cols = ['N', 'P', 'K', 'temperature', 'humidity', 'ph']\n",
    "i = 0\n",
    "for ax in axs.flatten():\n",
    "    ax.hist(df[cols[i]], bins=50)\n",
    "    ax.set_title(cols[i])\n",
    "    i += 1\n",
    "plt.tight_layout()\n",
    "plt.show()"
   ]
  },
  {
   "cell_type": "code",
   "execution_count": 10,
   "id": "fce79735",
   "metadata": {},
   "outputs": [
    {
     "data": {
      "image/png": "[encoded data removed]",
      "text/plain": [
       "<Figure size 1300x600 with 1 Axes>"
      ]
     },
     "metadata": {
      "needs_background": "light"
     },
     "output_type": "display_data"
    }
   ],
   "source": [
    "plt.figure(figsize=(13, 6), dpi=100)\n",
    "sns.countplot(data=df, x='label')\n",
    "plt.xticks(rotation=45)\n",
    "plt.title('Label Distribution')\n",
    "plt.show()"
   ]
  },
  {
   "cell_type": "markdown",
   "id": "fcae303f",
   "metadata": {},
   "source": [
    "## Model Building"
   ]
  },
  {
   "cell_type": "code",
   "execution_count": 11,
   "id": "73636c00",
   "metadata": {},
   "outputs": [],
   "source": [
    "from sklearn.model_selection import train_test_split"
   ]
  },
  {
   "cell_type": "code",
   "execution_count": 12,
   "id": "c74da6ce",
   "metadata": {},
   "outputs": [
    {
     "data": {
      "text/plain": [
       "{'apple': 0,\n",
       " 'banana': 1,\n",
       " 'blackgram': 2,\n",
       " 'chickpea': 3,\n",
       " 'coconut': 4,\n",
       " 'coffee': 5,\n",
       " 'cotton': 6,\n",
       " 'grapes': 7,\n",
       " 'jute': 8,\n",
       " 'kidneybeans': 9,\n",
       " 'lentil': 10,\n",
       " 'maize': 11,\n",
       " 'mango': 12,\n",
       " 'mothbeans': 13,\n",
       " 'mungbean': 14,\n",
       " 'muskmelon': 15,\n",
       " 'orange': 16,\n",
       " 'papaya': 17,\n",
       " 'pigeonpeas': 18,\n",
       " 'pomegranate': 19,\n",
       " 'rice': 20,\n",
       " 'watermelon': 21}"
      ]
     },
     "execution_count": 12,
     "metadata": {},
     "output_type": "execute_result"
    }
   ],
   "source": [
    "x = np.sort(df['label'].unique())\n",
    "label_map = {}\n",
    "for idx, i in enumerate(x):\n",
    "    label_map[i] = idx\n",
    "label_map"
   ]
  },
  {
   "cell_type": "code",
   "execution_count": 13,
   "id": "9c30a0ac",
   "metadata": {},
   "outputs": [],
   "source": [
    "X = df.drop('label', axis=1).values\n",
    "y = df['label'].map(label_map).values\n",
    "X_train, X_test, y_train, y_test = train_test_split(X, y, test_size=0.1, shuffle=True)\n",
    "X_train, X_val, y_train, y_val = train_test_split(X_train, y_train, test_size=0.1, shuffle=True)"
   ]
  },
  {
   "cell_type": "code",
   "execution_count": 14,
   "id": "5a3067a8",
   "metadata": {},
   "outputs": [],
   "source": [
    "import tensorflow as tf\n",
    "from tensorflow import keras\n",
    "from tensorflow.keras import layers\n",
    "import os\n",
    "os.environ['TF_CPP_MIN_LOG_LEVEL'] = '2'"
   ]
  },
  {
   "cell_type": "code",
   "execution_count": 15,
   "id": "1b5d591e",
   "metadata": {},
   "outputs": [
    {
     "data": {
      "text/plain": [
       "(22, (2200, 8))"
      ]
     },
     "execution_count": 15,
     "metadata": {},
     "output_type": "execute_result"
    }
   ],
   "source": [
    "df['label'].nunique(), df.shape"
   ]
  },
  {
   "cell_type": "code",
   "execution_count": 16,
   "id": "2d68cb87",
   "metadata": {},
   "outputs": [
    {
     "name": "stdout",
     "output_type": "stream",
     "text": [
      "Metal device set to: Apple M1\n",
      "Model: \"sequential\"\n",
      "_________________________________________________________________\n",
      " Layer (type)                Output Shape              Param #   \n",
      "=================================================================\n",
      " dense (Dense)               (None, 128)               1024      \n",
      "                                                                 \n",
      " dense_1 (Dense)             (None, 64)                8256      \n",
      "                                                                 \n",
      " dense_2 (Dense)             (None, 64)                4160      \n",
      "                                                                 \n",
      " dense_3 (Dense)             (None, 32)                2080      \n",
      "                                                                 \n",
      " dense_4 (Dense)             (None, 22)                726       \n",
      "                                                                 \n",
      "=================================================================\n",
      "Total params: 16,246\n",
      "Trainable params: 16,246\n",
      "Non-trainable params: 0\n",
      "_________________________________________________________________\n"
     ]
    }
   ],
   "source": [
    "model = keras.Sequential([\n",
    "    layers.Dense(units=128, input_shape=(7,), activation='relu'),\n",
    "    layers.Dense(units=64, activation='relu'),\n",
    "    layers.Dense(units=64, activation='relu'),\n",
    "    layers.Dense(units=32, activation='relu'),\n",
    "    layers.Dense(units=22, activation='softmax'),\n",
    "])\n",
    "model.summary()"
   ]
  },
  {
   "cell_type": "code",
   "execution_count": 17,
   "id": "c3a0bfd4",
   "metadata": {},
   "outputs": [
    {
     "data": {
      "text/plain": [
       "((1782, 7), (1782,), (220, 7), (220,))"
      ]
     },
     "execution_count": 17,
     "metadata": {},
     "output_type": "execute_result"
    }
   ],
   "source": [
    "X_train.shape, y_train.shape, X_test.shape, y_test.shape"
   ]
  },
  {
   "cell_type": "code",
   "execution_count": 18,
   "id": "f35b63b3",
   "metadata": {
    "scrolled": false
   },
   "outputs": [
    {
     "name": "stdout",
     "output_type": "stream",
     "text": [
      "Epoch 1/100\n",
      "56/56 [==============================] - 1s 8ms/step - loss: 3.1861 - accuracy: 0.0483 - val_loss: 2.9550 - val_accuracy: 0.0818\n",
      "Epoch 2/100\n",
      "56/56 [==============================] - 0s 6ms/step - loss: 2.8875 - accuracy: 0.1055 - val_loss: 2.8390 - val_accuracy: 0.1500\n",
      "Epoch 3/100\n",
      "56/56 [==============================] - 0s 5ms/step - loss: 2.6998 - accuracy: 0.1627 - val_loss: 2.5806 - val_accuracy: 0.2273\n",
      "Epoch 4/100\n",
      "56/56 [==============================] - 0s 5ms/step - loss: 2.4139 - accuracy: 0.2480 - val_loss: 2.2666 - val_accuracy: 0.3500\n",
      "Epoch 5/100\n",
      "56/56 [==============================] - 0s 5ms/step - loss: 2.0340 - accuracy: 0.3620 - val_loss: 1.7627 - val_accuracy: 0.4364\n",
      "Epoch 6/100\n",
      "56/56 [==============================] - 0s 5ms/step - loss: 1.5628 - accuracy: 0.5000 - val_loss: 1.3396 - val_accuracy: 0.5818\n",
      "Epoch 7/100\n",
      "56/56 [==============================] - 0s 5ms/step - loss: 1.2855 - accuracy: 0.5769 - val_loss: 1.2629 - val_accuracy: 0.5591\n",
      "Epoch 8/100\n",
      "56/56 [==============================] - 0s 5ms/step - loss: 1.1495 - accuracy: 0.6089 - val_loss: 0.9560 - val_accuracy: 0.6773\n",
      "Epoch 9/100\n",
      "56/56 [==============================] - 0s 5ms/step - loss: 0.9112 - accuracy: 0.6964 - val_loss: 0.7608 - val_accuracy: 0.7545\n",
      "Epoch 10/100\n",
      "56/56 [==============================] - 0s 6ms/step - loss: 0.7505 - accuracy: 0.7447 - val_loss: 0.6411 - val_accuracy: 0.7455\n",
      "Epoch 11/100\n",
      "56/56 [==============================] - 0s 7ms/step - loss: 0.5515 - accuracy: 0.8244 - val_loss: 0.5295 - val_accuracy: 0.8227\n",
      "Epoch 12/100\n",
      "56/56 [==============================] - 0s 7ms/step - loss: 0.4956 - accuracy: 0.8182 - val_loss: 0.3447 - val_accuracy: 0.9000\n",
      "Epoch 13/100\n",
      "56/56 [==============================] - 0s 6ms/step - loss: 0.4191 - accuracy: 0.8513 - val_loss: 0.3622 - val_accuracy: 0.8864\n",
      "Epoch 14/100\n",
      "56/56 [==============================] - 0s 7ms/step - loss: 0.3732 - accuracy: 0.8676 - val_loss: 0.3676 - val_accuracy: 0.8727\n",
      "Epoch 15/100\n",
      "56/56 [==============================] - 0s 5ms/step - loss: 0.3608 - accuracy: 0.8631 - val_loss: 0.3109 - val_accuracy: 0.8682\n",
      "Epoch 16/100\n",
      "56/56 [==============================] - 0s 5ms/step - loss: 0.3335 - accuracy: 0.8822 - val_loss: 0.3317 - val_accuracy: 0.8773\n",
      "Epoch 17/100\n",
      "56/56 [==============================] - 0s 6ms/step - loss: 0.3245 - accuracy: 0.8833 - val_loss: 0.2827 - val_accuracy: 0.9045\n",
      "Epoch 18/100\n",
      "56/56 [==============================] - 0s 5ms/step - loss: 0.3147 - accuracy: 0.8917 - val_loss: 0.2641 - val_accuracy: 0.9091\n",
      "Epoch 19/100\n",
      "56/56 [==============================] - 0s 6ms/step - loss: 0.2563 - accuracy: 0.9080 - val_loss: 0.2319 - val_accuracy: 0.9045\n",
      "Epoch 20/100\n",
      "56/56 [==============================] - 0s 6ms/step - loss: 0.2541 - accuracy: 0.8962 - val_loss: 0.2433 - val_accuracy: 0.9182\n",
      "Epoch 21/100\n",
      "56/56 [==============================] - 0s 5ms/step - loss: 0.2705 - accuracy: 0.8967 - val_loss: 0.2287 - val_accuracy: 0.9091\n",
      "Epoch 22/100\n",
      "56/56 [==============================] - 0s 5ms/step - loss: 0.2715 - accuracy: 0.8906 - val_loss: 0.4285 - val_accuracy: 0.8273\n",
      "Epoch 23/100\n",
      "56/56 [==============================] - 0s 5ms/step - loss: 0.2656 - accuracy: 0.9007 - val_loss: 0.2360 - val_accuracy: 0.9227\n",
      "Epoch 24/100\n",
      "56/56 [==============================] - 0s 6ms/step - loss: 0.2088 - accuracy: 0.9214 - val_loss: 0.2170 - val_accuracy: 0.9136\n",
      "Epoch 25/100\n",
      "56/56 [==============================] - 0s 8ms/step - loss: 0.2001 - accuracy: 0.9220 - val_loss: 0.2093 - val_accuracy: 0.9091\n",
      "Epoch 26/100\n",
      "56/56 [==============================] - 0s 8ms/step - loss: 0.1993 - accuracy: 0.9242 - val_loss: 0.1943 - val_accuracy: 0.9273\n",
      "Epoch 27/100\n",
      "56/56 [==============================] - 0s 8ms/step - loss: 0.1687 - accuracy: 0.9360 - val_loss: 0.1851 - val_accuracy: 0.9273\n",
      "Epoch 28/100\n",
      "56/56 [==============================] - 0s 6ms/step - loss: 0.1884 - accuracy: 0.9338 - val_loss: 0.1790 - val_accuracy: 0.9318\n",
      "Epoch 29/100\n",
      "56/56 [==============================] - 0s 7ms/step - loss: 0.1853 - accuracy: 0.9299 - val_loss: 0.4859 - val_accuracy: 0.8318\n",
      "Epoch 30/100\n",
      "56/56 [==============================] - 0s 7ms/step - loss: 0.2270 - accuracy: 0.9164 - val_loss: 0.2122 - val_accuracy: 0.9182\n",
      "Epoch 31/100\n",
      "56/56 [==============================] - 0s 7ms/step - loss: 0.1820 - accuracy: 0.9282 - val_loss: 0.1640 - val_accuracy: 0.9455\n",
      "Epoch 32/100\n",
      "56/56 [==============================] - 0s 6ms/step - loss: 0.1389 - accuracy: 0.9456 - val_loss: 0.1615 - val_accuracy: 0.9455\n",
      "Epoch 33/100\n",
      "56/56 [==============================] - 0s 5ms/step - loss: 0.1737 - accuracy: 0.9327 - val_loss: 0.2389 - val_accuracy: 0.9136\n",
      "Epoch 34/100\n",
      "56/56 [==============================] - 0s 5ms/step - loss: 0.1634 - accuracy: 0.9343 - val_loss: 0.1745 - val_accuracy: 0.9182\n",
      "Epoch 35/100\n",
      "56/56 [==============================] - 0s 5ms/step - loss: 0.1350 - accuracy: 0.9478 - val_loss: 0.1299 - val_accuracy: 0.9591\n",
      "Epoch 36/100\n",
      "56/56 [==============================] - 0s 5ms/step - loss: 0.1333 - accuracy: 0.9540 - val_loss: 0.1298 - val_accuracy: 0.9500\n",
      "Epoch 37/100\n",
      "56/56 [==============================] - 0s 5ms/step - loss: 0.1331 - accuracy: 0.9467 - val_loss: 0.1482 - val_accuracy: 0.9318\n",
      "Epoch 38/100\n",
      "56/56 [==============================] - 0s 5ms/step - loss: 0.1879 - accuracy: 0.9265 - val_loss: 0.2106 - val_accuracy: 0.9227\n",
      "Epoch 39/100\n",
      "56/56 [==============================] - 0s 5ms/step - loss: 0.1508 - accuracy: 0.9377 - val_loss: 0.2192 - val_accuracy: 0.9045\n",
      "Epoch 40/100\n",
      "56/56 [==============================] - 0s 6ms/step - loss: 0.1364 - accuracy: 0.9478 - val_loss: 0.1264 - val_accuracy: 0.9455\n",
      "Epoch 41/100\n",
      "56/56 [==============================] - 0s 5ms/step - loss: 0.1120 - accuracy: 0.9607 - val_loss: 0.1911 - val_accuracy: 0.9182\n",
      "Epoch 42/100\n",
      "56/56 [==============================] - 0s 5ms/step - loss: 0.1434 - accuracy: 0.9416 - val_loss: 0.2138 - val_accuracy: 0.9318\n",
      "Epoch 43/100\n",
      "56/56 [==============================] - 0s 5ms/step - loss: 0.1312 - accuracy: 0.9478 - val_loss: 0.1846 - val_accuracy: 0.9318\n",
      "Epoch 44/100\n",
      "56/56 [==============================] - 0s 5ms/step - loss: 0.1189 - accuracy: 0.9596 - val_loss: 0.1054 - val_accuracy: 0.9682\n",
      "Epoch 45/100\n",
      "56/56 [==============================] - 0s 5ms/step - loss: 0.1386 - accuracy: 0.9400 - val_loss: 0.1425 - val_accuracy: 0.9409\n",
      "Epoch 46/100\n",
      "56/56 [==============================] - 0s 5ms/step - loss: 0.1370 - accuracy: 0.9467 - val_loss: 0.1113 - val_accuracy: 0.9727\n",
      "Epoch 47/100\n",
      "56/56 [==============================] - 0s 5ms/step - loss: 0.0919 - accuracy: 0.9669 - val_loss: 0.1367 - val_accuracy: 0.9500\n",
      "Epoch 48/100\n",
      "56/56 [==============================] - 0s 5ms/step - loss: 0.1333 - accuracy: 0.9433 - val_loss: 0.1353 - val_accuracy: 0.9500\n",
      "Epoch 49/100\n",
      "56/56 [==============================] - 0s 5ms/step - loss: 0.1041 - accuracy: 0.9613 - val_loss: 0.2485 - val_accuracy: 0.9000\n",
      "Epoch 50/100\n",
      "56/56 [==============================] - 0s 5ms/step - loss: 0.1826 - accuracy: 0.9315 - val_loss: 0.1146 - val_accuracy: 0.9591\n",
      "Epoch 51/100\n",
      "56/56 [==============================] - 0s 5ms/step - loss: 0.1236 - accuracy: 0.9523 - val_loss: 0.1339 - val_accuracy: 0.9636\n",
      "Epoch 52/100\n",
      "56/56 [==============================] - 0s 5ms/step - loss: 0.1133 - accuracy: 0.9506 - val_loss: 0.1992 - val_accuracy: 0.9091\n",
      "Epoch 53/100\n",
      "56/56 [==============================] - 0s 5ms/step - loss: 0.1019 - accuracy: 0.9669 - val_loss: 0.0809 - val_accuracy: 0.9727\n",
      "Epoch 54/100\n",
      "56/56 [==============================] - 0s 5ms/step - loss: 0.1575 - accuracy: 0.9422 - val_loss: 0.1081 - val_accuracy: 0.9545\n",
      "Epoch 55/100\n",
      "56/56 [==============================] - 0s 5ms/step - loss: 0.1025 - accuracy: 0.9557 - val_loss: 0.1308 - val_accuracy: 0.9545\n",
      "Epoch 56/100\n",
      "56/56 [==============================] - 0s 5ms/step - loss: 0.0856 - accuracy: 0.9635 - val_loss: 0.1009 - val_accuracy: 0.9591\n",
      "Epoch 57/100\n",
      "56/56 [==============================] - 0s 5ms/step - loss: 0.0747 - accuracy: 0.9742 - val_loss: 0.0990 - val_accuracy: 0.9636\n",
      "Epoch 58/100\n",
      "56/56 [==============================] - 0s 5ms/step - loss: 0.1032 - accuracy: 0.9562 - val_loss: 0.1239 - val_accuracy: 0.9682\n"
     ]
    },
    {
     "name": "stdout",
     "output_type": "stream",
     "text": [
      "Epoch 59/100\n",
      "56/56 [==============================] - 0s 5ms/step - loss: 0.0892 - accuracy: 0.9624 - val_loss: 0.1152 - val_accuracy: 0.9455\n",
      "Epoch 60/100\n",
      "56/56 [==============================] - 0s 5ms/step - loss: 0.0759 - accuracy: 0.9708 - val_loss: 0.1178 - val_accuracy: 0.9455\n",
      "Epoch 61/100\n",
      "56/56 [==============================] - 0s 6ms/step - loss: 0.1133 - accuracy: 0.9512 - val_loss: 0.1302 - val_accuracy: 0.9591\n",
      "Epoch 62/100\n",
      "56/56 [==============================] - 0s 6ms/step - loss: 0.1265 - accuracy: 0.9562 - val_loss: 0.1487 - val_accuracy: 0.9364\n",
      "Epoch 63/100\n",
      "56/56 [==============================] - 0s 5ms/step - loss: 0.1071 - accuracy: 0.9579 - val_loss: 0.0977 - val_accuracy: 0.9636\n",
      "Epoch 64/100\n",
      "56/56 [==============================] - 0s 5ms/step - loss: 0.0803 - accuracy: 0.9686 - val_loss: 0.1012 - val_accuracy: 0.9682\n",
      "Epoch 65/100\n",
      "56/56 [==============================] - 0s 5ms/step - loss: 0.0829 - accuracy: 0.9607 - val_loss: 0.1009 - val_accuracy: 0.9636\n",
      "Epoch 66/100\n",
      "56/56 [==============================] - 0s 5ms/step - loss: 0.0804 - accuracy: 0.9635 - val_loss: 0.1075 - val_accuracy: 0.9591\n",
      "Epoch 67/100\n",
      "56/56 [==============================] - 0s 5ms/step - loss: 0.0815 - accuracy: 0.9652 - val_loss: 0.1025 - val_accuracy: 0.9636\n",
      "Epoch 68/100\n",
      "56/56 [==============================] - 0s 5ms/step - loss: 0.0733 - accuracy: 0.9714 - val_loss: 0.0894 - val_accuracy: 0.9682\n",
      "Epoch 69/100\n",
      "56/56 [==============================] - 0s 5ms/step - loss: 0.0953 - accuracy: 0.9652 - val_loss: 0.1841 - val_accuracy: 0.9273\n",
      "Epoch 70/100\n",
      "56/56 [==============================] - 0s 5ms/step - loss: 0.0791 - accuracy: 0.9680 - val_loss: 0.1392 - val_accuracy: 0.9273\n",
      "Epoch 71/100\n",
      "56/56 [==============================] - 0s 5ms/step - loss: 0.0831 - accuracy: 0.9646 - val_loss: 0.1054 - val_accuracy: 0.9500\n",
      "Epoch 72/100\n",
      "56/56 [==============================] - 0s 5ms/step - loss: 0.0911 - accuracy: 0.9607 - val_loss: 0.0924 - val_accuracy: 0.9591\n",
      "Epoch 73/100\n",
      "56/56 [==============================] - 0s 5ms/step - loss: 0.0771 - accuracy: 0.9736 - val_loss: 0.0631 - val_accuracy: 0.9818\n",
      "Epoch 74/100\n",
      "56/56 [==============================] - 0s 6ms/step - loss: 0.0644 - accuracy: 0.9714 - val_loss: 0.0657 - val_accuracy: 0.9727\n",
      "Epoch 75/100\n",
      "56/56 [==============================] - 0s 5ms/step - loss: 0.0739 - accuracy: 0.9675 - val_loss: 0.0788 - val_accuracy: 0.9636\n",
      "Epoch 76/100\n",
      "56/56 [==============================] - 0s 5ms/step - loss: 0.0757 - accuracy: 0.9658 - val_loss: 0.0568 - val_accuracy: 0.9818\n",
      "Epoch 77/100\n",
      "56/56 [==============================] - 0s 5ms/step - loss: 0.0644 - accuracy: 0.9753 - val_loss: 0.0817 - val_accuracy: 0.9636\n",
      "Epoch 78/100\n",
      "56/56 [==============================] - 0s 5ms/step - loss: 0.0553 - accuracy: 0.9781 - val_loss: 0.0645 - val_accuracy: 0.9682\n",
      "Epoch 79/100\n",
      "56/56 [==============================] - 0s 5ms/step - loss: 0.0751 - accuracy: 0.9719 - val_loss: 0.0879 - val_accuracy: 0.9591\n",
      "Epoch 80/100\n",
      "56/56 [==============================] - 0s 5ms/step - loss: 0.0581 - accuracy: 0.9781 - val_loss: 0.1084 - val_accuracy: 0.9455\n",
      "Epoch 81/100\n",
      "56/56 [==============================] - 0s 5ms/step - loss: 0.1295 - accuracy: 0.9545 - val_loss: 0.3697 - val_accuracy: 0.9045\n",
      "Epoch 82/100\n",
      "56/56 [==============================] - 0s 5ms/step - loss: 0.1369 - accuracy: 0.9478 - val_loss: 0.0926 - val_accuracy: 0.9500\n",
      "Epoch 83/100\n",
      "56/56 [==============================] - 0s 5ms/step - loss: 0.1028 - accuracy: 0.9574 - val_loss: 0.0835 - val_accuracy: 0.9682\n",
      "Epoch 84/100\n",
      "56/56 [==============================] - 0s 5ms/step - loss: 0.0634 - accuracy: 0.9764 - val_loss: 0.0592 - val_accuracy: 0.9727\n",
      "Epoch 85/100\n",
      "56/56 [==============================] - 0s 5ms/step - loss: 0.0545 - accuracy: 0.9714 - val_loss: 0.1175 - val_accuracy: 0.9455\n",
      "Epoch 86/100\n",
      "56/56 [==============================] - 0s 5ms/step - loss: 0.0669 - accuracy: 0.9714 - val_loss: 0.1227 - val_accuracy: 0.9545\n",
      "Epoch 87/100\n",
      "56/56 [==============================] - 0s 5ms/step - loss: 0.1182 - accuracy: 0.9562 - val_loss: 0.2071 - val_accuracy: 0.9318\n",
      "Epoch 88/100\n",
      "56/56 [==============================] - 0s 5ms/step - loss: 0.1000 - accuracy: 0.9607 - val_loss: 0.1524 - val_accuracy: 0.9318\n",
      "Epoch 89/100\n",
      "56/56 [==============================] - 0s 5ms/step - loss: 0.0817 - accuracy: 0.9675 - val_loss: 0.1444 - val_accuracy: 0.9500\n",
      "Epoch 90/100\n",
      "56/56 [==============================] - 0s 5ms/step - loss: 0.1034 - accuracy: 0.9574 - val_loss: 0.2610 - val_accuracy: 0.8909\n",
      "Epoch 91/100\n",
      "56/56 [==============================] - 0s 5ms/step - loss: 0.1164 - accuracy: 0.9574 - val_loss: 0.0956 - val_accuracy: 0.9636\n",
      "Epoch 92/100\n",
      "56/56 [==============================] - 0s 5ms/step - loss: 0.0586 - accuracy: 0.9747 - val_loss: 0.1031 - val_accuracy: 0.9409\n",
      "Epoch 93/100\n",
      "56/56 [==============================] - 0s 5ms/step - loss: 0.0561 - accuracy: 0.9815 - val_loss: 0.0715 - val_accuracy: 0.9773\n",
      "Epoch 94/100\n",
      "56/56 [==============================] - 0s 5ms/step - loss: 0.0932 - accuracy: 0.9585 - val_loss: 0.1468 - val_accuracy: 0.9273\n",
      "Epoch 95/100\n",
      "56/56 [==============================] - 0s 5ms/step - loss: 0.0684 - accuracy: 0.9725 - val_loss: 0.1005 - val_accuracy: 0.9545\n",
      "Epoch 96/100\n",
      "56/56 [==============================] - 0s 5ms/step - loss: 0.0748 - accuracy: 0.9725 - val_loss: 0.0981 - val_accuracy: 0.9545\n",
      "Epoch 97/100\n",
      "56/56 [==============================] - 0s 5ms/step - loss: 0.0800 - accuracy: 0.9624 - val_loss: 0.1126 - val_accuracy: 0.9545\n",
      "Epoch 98/100\n",
      "56/56 [==============================] - 0s 5ms/step - loss: 0.0885 - accuracy: 0.9635 - val_loss: 0.0787 - val_accuracy: 0.9682\n",
      "Epoch 99/100\n",
      "56/56 [==============================] - 0s 5ms/step - loss: 0.0483 - accuracy: 0.9792 - val_loss: 0.1022 - val_accuracy: 0.9545\n",
      "Epoch 100/100\n",
      "56/56 [==============================] - 0s 5ms/step - loss: 0.0559 - accuracy: 0.9719 - val_loss: 0.0686 - val_accuracy: 0.9727\n"
     ]
    }
   ],
   "source": [
    "model.compile(\n",
    "    optimizer=keras.optimizers.Adam(), \n",
    "    loss=keras.losses.SparseCategoricalCrossentropy(),\n",
    "    metrics=['accuracy'], \n",
    ")\n",
    "\n",
    "history = model.fit(x=X_train, y=y_train, \n",
    "                    batch_size=32,\n",
    "                    epochs=100, \n",
    "                    validation_data=(X_test, y_test))"
   ]
  },
  {
   "cell_type": "code",
   "execution_count": 19,
   "id": "58fbd98e",
   "metadata": {},
   "outputs": [
    {
     "name": "stdout",
     "output_type": "stream",
     "text": [
      "56/56 [==============================] - 0s 4ms/step - loss: 0.0406 - accuracy: 0.9826\n"
     ]
    },
    {
     "data": {
      "text/plain": [
       "[0.04059179127216339, 0.9826038479804993]"
      ]
     },
     "execution_count": 19,
     "metadata": {},
     "output_type": "execute_result"
    }
   ],
   "source": [
    "model.evaluate(X_train, y_train)"
   ]
  },
  {
   "cell_type": "code",
   "execution_count": 20,
   "id": "6b8a342f",
   "metadata": {},
   "outputs": [
    {
     "name": "stdout",
     "output_type": "stream",
     "text": [
      "7/7 [==============================] - 0s 6ms/step - loss: 0.0560 - accuracy: 0.9848\n"
     ]
    },
    {
     "data": {
      "text/plain": [
       "[0.05602603033185005, 0.9848484992980957]"
      ]
     },
     "execution_count": 20,
     "metadata": {},
     "output_type": "execute_result"
    }
   ],
   "source": [
    "model.evaluate(X_val, y_val)"
   ]
  },
  {
   "cell_type": "code",
   "execution_count": 21,
   "id": "465fdc2c",
   "metadata": {},
   "outputs": [
    {
     "name": "stdout",
     "output_type": "stream",
     "text": [
      "7/7 [==============================] - 0s 4ms/step - loss: 0.0686 - accuracy: 0.9727\n"
     ]
    },
    {
     "data": {
      "text/plain": [
       "[0.06857572495937347, 0.972727358341217]"
      ]
     },
     "execution_count": 21,
     "metadata": {},
     "output_type": "execute_result"
    }
   ],
   "source": [
    "model.evaluate(X_test, y_test)"
   ]
  },
  {
   "cell_type": "code",
   "execution_count": 22,
   "id": "6bb24d1a",
   "metadata": {},
   "outputs": [],
   "source": [
    "model.save('model.h5')"
   ]
  },
  {
   "cell_type": "code",
   "execution_count": 23,
   "id": "cc192b4c",
   "metadata": {},
   "outputs": [],
   "source": [
    "from sklearn.metrics import confusion_matrix"
   ]
  },
  {
   "cell_type": "code",
   "execution_count": 24,
   "id": "5e2529ca",
   "metadata": {},
   "outputs": [
    {
     "name": "stdout",
     "output_type": "stream",
     "text": [
      "[[81  0  0  0  0  0  0  0  0  0  0  0  0  0  0  0  0  0  0  0  0  0]\n",
      " [ 0 79  0  0  0  0  0  0  0  0  0  0  0  0  0  0  0  0  0  0  0  0]\n",
      " [ 0  0 84  0  0  0  0  0  0  0  0  0  0  0  0  0  0  0  0  0  0  0]\n",
      " [ 0  0  0 83  0  0  0  0  0  0  0  0  0  0  0  0  0  0  0  0  0  0]\n",
      " [ 0  0  0  0 85  0  0  0  0  0  0  0  0  0  0  0  0  0  0  1  0  0]\n",
      " [ 0  0  0  0  0 76  0  0  0  0  0  0  0  0  0  0  0  0  0  0  0  0]\n",
      " [ 0  0  0  0  0  0 77  0  0  0  0  0  0  0  0  0  0  0  0  0  0  0]\n",
      " [ 0  0  0  0  0  0  0 79  0  0  0  0  0  0  0  0  0  0  0  0  0  0]\n",
      " [ 0  0  0  0  0  0  0  0 59  0  0  0  0  0  0  0  0  0  0  0 21  0]\n",
      " [ 0  0  0  0  0  0  0  0  0 87  0  0  0  0  0  0  0  0  0  0  0  0]\n",
      " [ 0  0  0  0  0  0  0  0  0  0 84  0  0  0  0  0  0  0  0  0  0  0]\n",
      " [ 0  0  0  0  0  0  2  0  0  0  0 81  0  0  0  0  0  0  0  0  0  0]\n",
      " [ 0  0  0  0  0  0  0  0  0  0  0  0 76  0  0  0  0  0  0  0  0  0]\n",
      " [ 0  0  0  0  0  0  0  0  0  0  0  0  0 83  0  0  0  0  0  0  0  0]\n",
      " [ 0  0  0  0  0  0  0  0  0  0  0  0  0  0 72  0  0  0  0  0  0  0]\n",
      " [ 0  0  0  0  0  0  0  0  0  0  0  0  0  0  0 74  0  0  0  0  0  0]\n",
      " [ 0  0  0  0  0  0  0  0  0  0  0  0  0  0  0  0 81  0  0  0  0  0]\n",
      " [ 0  0  0  0  0  0  0  0  0  0  0  0  0  0  0  0  0 86  0  0  0  0]\n",
      " [ 0  0  0  0  0  0  0  0  0  0  0  0  0  0  0  0  0  0 87  0  0  0]\n",
      " [ 0  0  0  0  0  0  0  0  0  0  0  0  0  0  0  0  0  0  0 86  0  0]\n",
      " [ 0  0  0  0  0  0  0  0  7  0  0  0  0  0  0  0  0  0  0  0 74  0]\n",
      " [ 0  0  0  0  0  0  0  0  0  0  0  0  0  0  0  0  0  0  0  0  0 77]]\n"
     ]
    }
   ],
   "source": [
    "print(confusion_matrix(y_train, tf.argmax(model.predict(X_train), axis=1).numpy()))"
   ]
  },
  {
   "cell_type": "code",
   "execution_count": 25,
   "id": "f9997046",
   "metadata": {},
   "outputs": [
    {
     "name": "stdout",
     "output_type": "stream",
     "text": [
      "[[11  0  0  0  0  0  0  0  0  0  0  0  0  0  0  0  0  0  0  0  0  0]\n",
      " [ 0  6  0  0  0  0  0  0  0  0  0  0  0  0  0  0  0  0  0  0  0  0]\n",
      " [ 0  0  8  0  0  0  0  0  0  0  0  0  0  0  0  0  0  0  0  0  0  0]\n",
      " [ 0  0  0  5  0  0  0  0  0  0  0  0  0  0  0  0  0  0  0  0  0  0]\n",
      " [ 0  0  0  0  5  0  0  0  0  0  0  0  0  0  0  0  0  0  0  0  0  0]\n",
      " [ 0  0  0  0  0  9  0  0  0  0  0  0  0  0  0  0  0  0  0  0  0  0]\n",
      " [ 0  0  0  0  0  0 11  0  0  0  0  0  0  0  0  0  0  0  0  0  0  0]\n",
      " [ 0  0  0  0  0  0  0  8  0  0  0  0  0  0  0  0  0  0  0  0  0  0]\n",
      " [ 0  0  0  0  0  0  0  0  8  0  0  0  0  0  0  0  0  0  0  0  3  0]\n",
      " [ 0  0  0  0  0  0  0  0  0  8  0  0  0  0  0  0  0  0  0  0  0  0]\n",
      " [ 0  0  0  0  0  0  0  0  0  0 14  0  0  0  0  0  0  0  0  0  0  0]\n",
      " [ 0  0  0  0  0  0  0  0  0  0  0  9  0  0  0  0  0  0  0  0  0  0]\n",
      " [ 0  0  0  0  0  0  0  0  0  0  0  0 17  0  0  0  0  0  0  0  0  0]\n",
      " [ 0  0  0  0  0  0  0  0  0  0  0  0  0  8  0  0  0  0  0  0  0  0]\n",
      " [ 0  0  0  0  0  0  0  0  0  0  0  0  0  0 10  0  0  0  0  0  0  0]\n",
      " [ 0  0  0  0  0  0  0  0  0  0  0  0  0  0  0 12  0  0  0  0  0  0]\n",
      " [ 0  0  0  0  0  0  0  0  0  0  0  0  0  0  0  0  8  0  0  0  0  0]\n",
      " [ 0  0  0  0  0  0  0  0  0  0  0  0  0  0  0  0  0  7  0  0  0  0]\n",
      " [ 0  0  0  0  0  0  0  0  0  0  0  0  0  0  0  0  0  0  7  0  0  0]\n",
      " [ 0  0  0  0  0  0  0  0  0  0  0  0  0  0  0  0  0  0  0  7  0  0]\n",
      " [ 0  0  0  0  0  0  0  0  0  0  0  0  0  0  0  0  0  0  0  0  8  0]\n",
      " [ 0  0  0  0  0  0  0  0  0  0  0  0  0  0  0  0  0  0  0  0  0  9]]\n"
     ]
    }
   ],
   "source": [
    "print(confusion_matrix(y_val, tf.argmax(model.predict(X_val), axis=1).numpy()))"
   ]
  },
  {
   "cell_type": "code",
   "execution_count": 26,
   "id": "02dc9f6d",
   "metadata": {},
   "outputs": [
    {
     "name": "stdout",
     "output_type": "stream",
     "text": [
      "[[ 8  0  0  0  0  0  0  0  0  0  0  0  0  0  0  0  0  0  0  0  0  0]\n",
      " [ 0 15  0  0  0  0  0  0  0  0  0  0  0  0  0  0  0  0  0  0  0  0]\n",
      " [ 0  0  8  0  0  0  0  0  0  0  0  0  0  0  0  0  0  0  0  0  0  0]\n",
      " [ 0  0  0 12  0  0  0  0  0  0  0  0  0  0  0  0  0  0  0  0  0  0]\n",
      " [ 0  0  0  0  9  0  0  0  0  0  0  0  0  0  0  0  0  0  0  0  0  0]\n",
      " [ 0  0  0  0  0 14  0  0  1  0  0  0  0  0  0  0  0  0  0  0  0  0]\n",
      " [ 0  0  0  0  0  0 12  0  0  0  0  0  0  0  0  0  0  0  0  0  0  0]\n",
      " [ 0  0  0  0  0  0  0 13  0  0  0  0  0  0  0  0  0  0  0  0  0  0]\n",
      " [ 0  0  0  0  0  0  0  0  6  0  0  0  0  0  0  0  0  0  0  0  3  0]\n",
      " [ 0  0  0  0  0  0  0  0  0  5  0  0  0  0  0  0  0  0  0  0  0  0]\n",
      " [ 0  0  0  0  0  0  0  0  0  0  2  0  0  0  0  0  0  0  0  0  0  0]\n",
      " [ 0  0  0  0  0  0  0  0  0  0  0  8  0  0  0  0  0  0  0  0  0  0]\n",
      " [ 0  0  0  0  0  0  0  0  0  0  0  0  7  0  0  0  0  0  0  0  0  0]\n",
      " [ 0  0  0  0  0  0  0  0  0  0  2  0  0  7  0  0  0  0  0  0  0  0]\n",
      " [ 0  0  0  0  0  0  0  0  0  0  0  0  0  0 18  0  0  0  0  0  0  0]\n",
      " [ 0  0  0  0  0  0  0  0  0  0  0  0  0  0  0 14  0  0  0  0  0  0]\n",
      " [ 0  0  0  0  0  0  0  0  0  0  0  0  0  0  0  0 11  0  0  0  0  0]\n",
      " [ 0  0  0  0  0  0  0  0  0  0  0  0  0  0  0  0  0  7  0  0  0  0]\n",
      " [ 0  0  0  0  0  0  0  0  0  0  0  0  0  0  0  0  0  0  6  0  0  0]\n",
      " [ 0  0  0  0  0  0  0  0  0  0  0  0  0  0  0  0  0  0  0  7  0  0]\n",
      " [ 0  0  0  0  0  0  0  0  0  0  0  0  0  0  0  0  0  0  0  0 11  0]\n",
      " [ 0  0  0  0  0  0  0  0  0  0  0  0  0  0  0  0  0  0  0  0  0 14]]\n"
     ]
    }
   ],
   "source": [
    "print(confusion_matrix(y_test, tf.argmax(model.predict(X_test), axis=1).numpy()))"
   ]
  },
  {
   "cell_type": "code",
   "execution_count": 27,
   "id": "bbe08c1a",
   "metadata": {},
   "outputs": [
    {
     "data": {
      "image/png": "[encoded data removed]",
      "text/plain": [
       "<Figure size 1200x400 with 2 Axes>"
      ]
     },
     "metadata": {
      "needs_background": "light"
     },
     "output_type": "display_data"
    }
   ],
   "source": [
    "plt.figure(figsize=(12, 4), dpi=100)\n",
    "plt.subplot(121)\n",
    "plt.plot(history.history['accuracy'], label='train')\n",
    "plt.plot(history.history['val_accuracy'], label='val')\n",
    "plt.title('Accuracy')\n",
    "plt.xlabel('Epoch')\n",
    "plt.ylabel('Accuracy')\n",
    "plt.legend()\n",
    "plt.subplot(122)\n",
    "plt.plot(history.history['loss'], label='train')\n",
    "plt.plot(history.history['val_loss'], label='val')\n",
    "plt.title('Loss')\n",
    "plt.xlabel('Epoch')\n",
    "plt.ylabel('Loss')\n",
    "plt.legend()\n",
    "plt.show()"
   ]
  }
 ],
 "metadata": {
  "kernelspec": {
   "display_name": "tensorflow",
   "language": "python",
   "name": "tensorflow"
  },
  "language_info": {
   "codemirror_mode": {
    "name": "ipython",
    "version": 3
   },
   "file_extension": ".py",
   "mimetype": "text/x-python",
   "name": "python",
   "nbconvert_exporter": "python",
   "pygments_lexer": "ipython3",
   "version": "3.9.12"
  },
  "toc": {
   "base_numbering": 1,
   "nav_menu": {},
   "number_sections": true,
   "sideBar": true,
   "skip_h1_title": false,
   "title_cell": "Table of Contents",
   "title_sidebar": "Contents",
   "toc_cell": false,
   "toc_position": {},
   "toc_section_display": true,
   "toc_window_display": false
  }
 },
 "nbformat": 4,
 "nbformat_minor": 5
}
